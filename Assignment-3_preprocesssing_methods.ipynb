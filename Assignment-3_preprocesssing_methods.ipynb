{
 "cells": [
  {
   "cell_type": "code",
   "execution_count": null,
   "id": "306ec284",
   "metadata": {},
   "outputs": [],
   "source": [
    "import pandas as pd\n",
    "import numpy as np\n",
    "from sklearn.preprocessing import StandardScaler\n",
    "from sklearn.ensemble import RandomForestClassifier\n",
    "from sklearn.model_selection import train_test_split\n",
    "from sklearn.preprocessing import LabelEncoder \n",
    "from sklearn import linear_model"
   ]
  },
  {
   "cell_type": "code",
   "execution_count": 3,
   "id": "049cac5d",
   "metadata": {},
   "outputs": [
    {
     "data": {
      "text/html": [
       "<div>\n",
       "<style scoped>\n",
       "    .dataframe tbody tr th:only-of-type {\n",
       "        vertical-align: middle;\n",
       "    }\n",
       "\n",
       "    .dataframe tbody tr th {\n",
       "        vertical-align: top;\n",
       "    }\n",
       "\n",
       "    .dataframe thead th {\n",
       "        text-align: right;\n",
       "    }\n",
       "</style>\n",
       "<table border=\"1\" class=\"dataframe\">\n",
       "  <thead>\n",
       "    <tr style=\"text-align: right;\">\n",
       "      <th></th>\n",
       "      <th>Name</th>\n",
       "      <th>Age</th>\n",
       "      <th>Gender</th>\n",
       "      <th>ChestPainType</th>\n",
       "      <th>RestingBP</th>\n",
       "      <th>Cholesterol</th>\n",
       "      <th>FastingBS</th>\n",
       "      <th>RestingECG</th>\n",
       "      <th>MaxHR</th>\n",
       "      <th>ExerciseAngina</th>\n",
       "      <th>Oldpeak</th>\n",
       "      <th>ST_Slope</th>\n",
       "      <th>HeartDisease</th>\n",
       "    </tr>\n",
       "  </thead>\n",
       "  <tbody>\n",
       "    <tr>\n",
       "      <th>0</th>\n",
       "      <td>Ram</td>\n",
       "      <td>40</td>\n",
       "      <td>M</td>\n",
       "      <td>ATA</td>\n",
       "      <td>140</td>\n",
       "      <td>289</td>\n",
       "      <td>0</td>\n",
       "      <td>Normal</td>\n",
       "      <td>172</td>\n",
       "      <td>N</td>\n",
       "      <td>0.0</td>\n",
       "      <td>Up</td>\n",
       "      <td>0</td>\n",
       "    </tr>\n",
       "    <tr>\n",
       "      <th>1</th>\n",
       "      <td>Sunita</td>\n",
       "      <td>49</td>\n",
       "      <td>F</td>\n",
       "      <td>NAP</td>\n",
       "      <td>160</td>\n",
       "      <td>180</td>\n",
       "      <td>0</td>\n",
       "      <td>Normal</td>\n",
       "      <td>156</td>\n",
       "      <td>N</td>\n",
       "      <td>1.0</td>\n",
       "      <td>Flat</td>\n",
       "      <td>1</td>\n",
       "    </tr>\n",
       "    <tr>\n",
       "      <th>2</th>\n",
       "      <td>Mohammed</td>\n",
       "      <td>37</td>\n",
       "      <td>M</td>\n",
       "      <td>ATA</td>\n",
       "      <td>130</td>\n",
       "      <td>283</td>\n",
       "      <td>0</td>\n",
       "      <td>ST</td>\n",
       "      <td>98</td>\n",
       "      <td>N</td>\n",
       "      <td>0.0</td>\n",
       "      <td>Up</td>\n",
       "      <td>0</td>\n",
       "    </tr>\n",
       "    <tr>\n",
       "      <th>3</th>\n",
       "      <td>Anita</td>\n",
       "      <td>48</td>\n",
       "      <td>F</td>\n",
       "      <td>ASY</td>\n",
       "      <td>138</td>\n",
       "      <td>214</td>\n",
       "      <td>0</td>\n",
       "      <td>Normal</td>\n",
       "      <td>108</td>\n",
       "      <td>Y</td>\n",
       "      <td>1.5</td>\n",
       "      <td>Flat</td>\n",
       "      <td>1</td>\n",
       "    </tr>\n",
       "    <tr>\n",
       "      <th>4</th>\n",
       "      <td>Sri</td>\n",
       "      <td>54</td>\n",
       "      <td>M</td>\n",
       "      <td>NAP</td>\n",
       "      <td>150</td>\n",
       "      <td>195</td>\n",
       "      <td>0</td>\n",
       "      <td>Normal</td>\n",
       "      <td>122</td>\n",
       "      <td>N</td>\n",
       "      <td>0.0</td>\n",
       "      <td>Up</td>\n",
       "      <td>0</td>\n",
       "    </tr>\n",
       "  </tbody>\n",
       "</table>\n",
       "</div>"
      ],
      "text/plain": [
       "       Name  Age Gender ChestPainType  RestingBP  Cholesterol  FastingBS  \\\n",
       "0       Ram   40      M           ATA        140          289          0   \n",
       "1    Sunita   49      F           NAP        160          180          0   \n",
       "2  Mohammed   37      M           ATA        130          283          0   \n",
       "3     Anita   48      F           ASY        138          214          0   \n",
       "4       Sri   54      M           NAP        150          195          0   \n",
       "\n",
       "  RestingECG  MaxHR ExerciseAngina  Oldpeak ST_Slope  HeartDisease  \n",
       "0     Normal    172              N      0.0       Up             0  \n",
       "1     Normal    156              N      1.0     Flat             1  \n",
       "2         ST     98              N      0.0       Up             0  \n",
       "3     Normal    108              Y      1.5     Flat             1  \n",
       "4     Normal    122              N      0.0       Up             0  "
      ]
     },
     "execution_count": 3,
     "metadata": {},
     "output_type": "execute_result"
    }
   ],
   "source": [
    "df=pd.read_csv(\"heart_disease.csv\")\n",
    "df.head()"
   ]
  },
  {
   "cell_type": "code",
   "execution_count": 5,
   "id": "2074a3c2",
   "metadata": {},
   "outputs": [
    {
     "data": {
      "text/plain": [
       "Index(['Name', 'Age', 'Gender', 'ChestPainType', 'RestingBP', 'Cholesterol',\n",
       "       'FastingBS', 'RestingECG', 'MaxHR', 'ExerciseAngina', 'Oldpeak',\n",
       "       'ST_Slope', 'HeartDisease'],\n",
       "      dtype='object')"
      ]
     },
     "execution_count": 5,
     "metadata": {},
     "output_type": "execute_result"
    }
   ],
   "source": [
    "df.columns"
   ]
  },
  {
   "cell_type": "code",
   "execution_count": 11,
   "id": "ef222a63",
   "metadata": {},
   "outputs": [],
   "source": [
    "label_encoder= LabelEncoder()\n",
    "df['ChestPainType']=label_encoder.fit_transform(df['ChestPainType'])\n",
    "df['HeartDisease']=label_encoder.fit_transform(df['HeartDisease'])\n",
    "x=df.drop(['Name','Age','Gender','HeartDisease','RestingECG','ExerciseAngina','ST_Slope'],axis=1)\n",
    "y=df['HeartDisease']"
   ]
  },
  {
   "cell_type": "code",
   "execution_count": 12,
   "id": "471b3ff1",
   "metadata": {},
   "outputs": [
    {
     "data": {
      "text/html": [
       "<div>\n",
       "<style scoped>\n",
       "    .dataframe tbody tr th:only-of-type {\n",
       "        vertical-align: middle;\n",
       "    }\n",
       "\n",
       "    .dataframe tbody tr th {\n",
       "        vertical-align: top;\n",
       "    }\n",
       "\n",
       "    .dataframe thead th {\n",
       "        text-align: right;\n",
       "    }\n",
       "</style>\n",
       "<table border=\"1\" class=\"dataframe\">\n",
       "  <thead>\n",
       "    <tr style=\"text-align: right;\">\n",
       "      <th></th>\n",
       "      <th>ChestPainType</th>\n",
       "      <th>RestingBP</th>\n",
       "      <th>Cholesterol</th>\n",
       "      <th>FastingBS</th>\n",
       "      <th>MaxHR</th>\n",
       "      <th>Oldpeak</th>\n",
       "    </tr>\n",
       "  </thead>\n",
       "  <tbody>\n",
       "    <tr>\n",
       "      <th>0</th>\n",
       "      <td>1</td>\n",
       "      <td>140</td>\n",
       "      <td>289</td>\n",
       "      <td>0</td>\n",
       "      <td>172</td>\n",
       "      <td>0.0</td>\n",
       "    </tr>\n",
       "    <tr>\n",
       "      <th>1</th>\n",
       "      <td>2</td>\n",
       "      <td>160</td>\n",
       "      <td>180</td>\n",
       "      <td>0</td>\n",
       "      <td>156</td>\n",
       "      <td>1.0</td>\n",
       "    </tr>\n",
       "    <tr>\n",
       "      <th>2</th>\n",
       "      <td>1</td>\n",
       "      <td>130</td>\n",
       "      <td>283</td>\n",
       "      <td>0</td>\n",
       "      <td>98</td>\n",
       "      <td>0.0</td>\n",
       "    </tr>\n",
       "    <tr>\n",
       "      <th>3</th>\n",
       "      <td>0</td>\n",
       "      <td>138</td>\n",
       "      <td>214</td>\n",
       "      <td>0</td>\n",
       "      <td>108</td>\n",
       "      <td>1.5</td>\n",
       "    </tr>\n",
       "    <tr>\n",
       "      <th>4</th>\n",
       "      <td>2</td>\n",
       "      <td>150</td>\n",
       "      <td>195</td>\n",
       "      <td>0</td>\n",
       "      <td>122</td>\n",
       "      <td>0.0</td>\n",
       "    </tr>\n",
       "  </tbody>\n",
       "</table>\n",
       "</div>"
      ],
      "text/plain": [
       "   ChestPainType  RestingBP  Cholesterol  FastingBS  MaxHR  Oldpeak\n",
       "0              1        140          289          0    172      0.0\n",
       "1              2        160          180          0    156      1.0\n",
       "2              1        130          283          0     98      0.0\n",
       "3              0        138          214          0    108      1.5\n",
       "4              2        150          195          0    122      0.0"
      ]
     },
     "execution_count": 12,
     "metadata": {},
     "output_type": "execute_result"
    }
   ],
   "source": [
    "x.head()"
   ]
  },
  {
   "cell_type": "code",
   "execution_count": 15,
   "id": "f487e9fc",
   "metadata": {},
   "outputs": [],
   "source": [
    "scaler=StandardScaler()"
   ]
  },
  {
   "cell_type": "code",
   "execution_count": 16,
   "id": "12340113",
   "metadata": {},
   "outputs": [],
   "source": [
    "x=scaler.fit_transform(x)\n",
    "x_train,x_test,y_train,y_test=train_test_split(x,y,test_size=0.25,random_state=42)"
   ]
  },
  {
   "cell_type": "code",
   "execution_count": 22,
   "id": "ba67ce04",
   "metadata": {},
   "outputs": [],
   "source": [
    "#Random forest classifier\n",
    "classifier1=RandomForestClassifier(n_estimators=100,random_state=42)"
   ]
  },
  {
   "cell_type": "code",
   "execution_count": 23,
   "id": "9c41f1fb",
   "metadata": {},
   "outputs": [
    {
     "data": {
      "text/html": [
       "<style>#sk-container-id-2 {color: black;}#sk-container-id-2 pre{padding: 0;}#sk-container-id-2 div.sk-toggleable {background-color: white;}#sk-container-id-2 label.sk-toggleable__label {cursor: pointer;display: block;width: 100%;margin-bottom: 0;padding: 0.3em;box-sizing: border-box;text-align: center;}#sk-container-id-2 label.sk-toggleable__label-arrow:before {content: \"▸\";float: left;margin-right: 0.25em;color: #696969;}#sk-container-id-2 label.sk-toggleable__label-arrow:hover:before {color: black;}#sk-container-id-2 div.sk-estimator:hover label.sk-toggleable__label-arrow:before {color: black;}#sk-container-id-2 div.sk-toggleable__content {max-height: 0;max-width: 0;overflow: hidden;text-align: left;background-color: #f0f8ff;}#sk-container-id-2 div.sk-toggleable__content pre {margin: 0.2em;color: black;border-radius: 0.25em;background-color: #f0f8ff;}#sk-container-id-2 input.sk-toggleable__control:checked~div.sk-toggleable__content {max-height: 200px;max-width: 100%;overflow: auto;}#sk-container-id-2 input.sk-toggleable__control:checked~label.sk-toggleable__label-arrow:before {content: \"▾\";}#sk-container-id-2 div.sk-estimator input.sk-toggleable__control:checked~label.sk-toggleable__label {background-color: #d4ebff;}#sk-container-id-2 div.sk-label input.sk-toggleable__control:checked~label.sk-toggleable__label {background-color: #d4ebff;}#sk-container-id-2 input.sk-hidden--visually {border: 0;clip: rect(1px 1px 1px 1px);clip: rect(1px, 1px, 1px, 1px);height: 1px;margin: -1px;overflow: hidden;padding: 0;position: absolute;width: 1px;}#sk-container-id-2 div.sk-estimator {font-family: monospace;background-color: #f0f8ff;border: 1px dotted black;border-radius: 0.25em;box-sizing: border-box;margin-bottom: 0.5em;}#sk-container-id-2 div.sk-estimator:hover {background-color: #d4ebff;}#sk-container-id-2 div.sk-parallel-item::after {content: \"\";width: 100%;border-bottom: 1px solid gray;flex-grow: 1;}#sk-container-id-2 div.sk-label:hover label.sk-toggleable__label {background-color: #d4ebff;}#sk-container-id-2 div.sk-serial::before {content: \"\";position: absolute;border-left: 1px solid gray;box-sizing: border-box;top: 0;bottom: 0;left: 50%;z-index: 0;}#sk-container-id-2 div.sk-serial {display: flex;flex-direction: column;align-items: center;background-color: white;padding-right: 0.2em;padding-left: 0.2em;position: relative;}#sk-container-id-2 div.sk-item {position: relative;z-index: 1;}#sk-container-id-2 div.sk-parallel {display: flex;align-items: stretch;justify-content: center;background-color: white;position: relative;}#sk-container-id-2 div.sk-item::before, #sk-container-id-2 div.sk-parallel-item::before {content: \"\";position: absolute;border-left: 1px solid gray;box-sizing: border-box;top: 0;bottom: 0;left: 50%;z-index: -1;}#sk-container-id-2 div.sk-parallel-item {display: flex;flex-direction: column;z-index: 1;position: relative;background-color: white;}#sk-container-id-2 div.sk-parallel-item:first-child::after {align-self: flex-end;width: 50%;}#sk-container-id-2 div.sk-parallel-item:last-child::after {align-self: flex-start;width: 50%;}#sk-container-id-2 div.sk-parallel-item:only-child::after {width: 0;}#sk-container-id-2 div.sk-dashed-wrapped {border: 1px dashed gray;margin: 0 0.4em 0.5em 0.4em;box-sizing: border-box;padding-bottom: 0.4em;background-color: white;}#sk-container-id-2 div.sk-label label {font-family: monospace;font-weight: bold;display: inline-block;line-height: 1.2em;}#sk-container-id-2 div.sk-label-container {text-align: center;}#sk-container-id-2 div.sk-container {/* jupyter's `normalize.less` sets `[hidden] { display: none; }` but bootstrap.min.css set `[hidden] { display: none !important; }` so we also need the `!important` here to be able to override the default hidden behavior on the sphinx rendered scikit-learn.org. See: https://github.com/scikit-learn/scikit-learn/issues/21755 */display: inline-block !important;position: relative;}#sk-container-id-2 div.sk-text-repr-fallback {display: none;}</style><div id=\"sk-container-id-2\" class=\"sk-top-container\"><div class=\"sk-text-repr-fallback\"><pre>RandomForestClassifier(random_state=42)</pre><b>In a Jupyter environment, please rerun this cell to show the HTML representation or trust the notebook. <br />On GitHub, the HTML representation is unable to render, please try loading this page with nbviewer.org.</b></div><div class=\"sk-container\" hidden><div class=\"sk-item\"><div class=\"sk-estimator sk-toggleable\"><input class=\"sk-toggleable__control sk-hidden--visually\" id=\"sk-estimator-id-2\" type=\"checkbox\" checked><label for=\"sk-estimator-id-2\" class=\"sk-toggleable__label sk-toggleable__label-arrow\">RandomForestClassifier</label><div class=\"sk-toggleable__content\"><pre>RandomForestClassifier(random_state=42)</pre></div></div></div></div></div>"
      ],
      "text/plain": [
       "RandomForestClassifier(random_state=42)"
      ]
     },
     "execution_count": 23,
     "metadata": {},
     "output_type": "execute_result"
    }
   ],
   "source": [
    "classifier1.fit(x_train,y_train)"
   ]
  },
  {
   "cell_type": "code",
   "execution_count": 24,
   "id": "3e4acf9b",
   "metadata": {},
   "outputs": [],
   "source": [
    "preds=classifier1.predict(x_test)"
   ]
  },
  {
   "cell_type": "code",
   "execution_count": 20,
   "id": "06502d8b",
   "metadata": {},
   "outputs": [],
   "source": [
    "from sklearn.metrics import confusion_matrix, accuracy_score, classification_report"
   ]
  },
  {
   "cell_type": "code",
   "execution_count": 21,
   "id": "cce5161a",
   "metadata": {},
   "outputs": [
    {
     "name": "stdout",
     "output_type": "stream",
     "text": [
      "Accuracy: 0.8316831683168316\n",
      "Confusion matrix: [[42  7]\n",
      " [10 42]]\n",
      "Report:               precision    recall  f1-score   support\n",
      "\n",
      "           0       0.81      0.86      0.83        49\n",
      "           1       0.86      0.81      0.83        52\n",
      "\n",
      "    accuracy                           0.83       101\n",
      "   macro avg       0.83      0.83      0.83       101\n",
      "weighted avg       0.83      0.83      0.83       101\n",
      "\n"
     ]
    }
   ],
   "source": [
    "cm=confusion_matrix(y_test,preds)\n",
    "report=classification_report(y_test,preds)\n",
    "print(\"Accuracy:\",accuracy_score(y_test,preds))\n",
    "print(\"Confusion matrix:\",cm)\n",
    "print(\"Report:\",report)"
   ]
  },
  {
   "cell_type": "code",
   "execution_count": 25,
   "id": "5fe6d5f5",
   "metadata": {},
   "outputs": [
    {
     "data": {
      "text/html": [
       "<style>#sk-container-id-3 {color: black;}#sk-container-id-3 pre{padding: 0;}#sk-container-id-3 div.sk-toggleable {background-color: white;}#sk-container-id-3 label.sk-toggleable__label {cursor: pointer;display: block;width: 100%;margin-bottom: 0;padding: 0.3em;box-sizing: border-box;text-align: center;}#sk-container-id-3 label.sk-toggleable__label-arrow:before {content: \"▸\";float: left;margin-right: 0.25em;color: #696969;}#sk-container-id-3 label.sk-toggleable__label-arrow:hover:before {color: black;}#sk-container-id-3 div.sk-estimator:hover label.sk-toggleable__label-arrow:before {color: black;}#sk-container-id-3 div.sk-toggleable__content {max-height: 0;max-width: 0;overflow: hidden;text-align: left;background-color: #f0f8ff;}#sk-container-id-3 div.sk-toggleable__content pre {margin: 0.2em;color: black;border-radius: 0.25em;background-color: #f0f8ff;}#sk-container-id-3 input.sk-toggleable__control:checked~div.sk-toggleable__content {max-height: 200px;max-width: 100%;overflow: auto;}#sk-container-id-3 input.sk-toggleable__control:checked~label.sk-toggleable__label-arrow:before {content: \"▾\";}#sk-container-id-3 div.sk-estimator input.sk-toggleable__control:checked~label.sk-toggleable__label {background-color: #d4ebff;}#sk-container-id-3 div.sk-label input.sk-toggleable__control:checked~label.sk-toggleable__label {background-color: #d4ebff;}#sk-container-id-3 input.sk-hidden--visually {border: 0;clip: rect(1px 1px 1px 1px);clip: rect(1px, 1px, 1px, 1px);height: 1px;margin: -1px;overflow: hidden;padding: 0;position: absolute;width: 1px;}#sk-container-id-3 div.sk-estimator {font-family: monospace;background-color: #f0f8ff;border: 1px dotted black;border-radius: 0.25em;box-sizing: border-box;margin-bottom: 0.5em;}#sk-container-id-3 div.sk-estimator:hover {background-color: #d4ebff;}#sk-container-id-3 div.sk-parallel-item::after {content: \"\";width: 100%;border-bottom: 1px solid gray;flex-grow: 1;}#sk-container-id-3 div.sk-label:hover label.sk-toggleable__label {background-color: #d4ebff;}#sk-container-id-3 div.sk-serial::before {content: \"\";position: absolute;border-left: 1px solid gray;box-sizing: border-box;top: 0;bottom: 0;left: 50%;z-index: 0;}#sk-container-id-3 div.sk-serial {display: flex;flex-direction: column;align-items: center;background-color: white;padding-right: 0.2em;padding-left: 0.2em;position: relative;}#sk-container-id-3 div.sk-item {position: relative;z-index: 1;}#sk-container-id-3 div.sk-parallel {display: flex;align-items: stretch;justify-content: center;background-color: white;position: relative;}#sk-container-id-3 div.sk-item::before, #sk-container-id-3 div.sk-parallel-item::before {content: \"\";position: absolute;border-left: 1px solid gray;box-sizing: border-box;top: 0;bottom: 0;left: 50%;z-index: -1;}#sk-container-id-3 div.sk-parallel-item {display: flex;flex-direction: column;z-index: 1;position: relative;background-color: white;}#sk-container-id-3 div.sk-parallel-item:first-child::after {align-self: flex-end;width: 50%;}#sk-container-id-3 div.sk-parallel-item:last-child::after {align-self: flex-start;width: 50%;}#sk-container-id-3 div.sk-parallel-item:only-child::after {width: 0;}#sk-container-id-3 div.sk-dashed-wrapped {border: 1px dashed gray;margin: 0 0.4em 0.5em 0.4em;box-sizing: border-box;padding-bottom: 0.4em;background-color: white;}#sk-container-id-3 div.sk-label label {font-family: monospace;font-weight: bold;display: inline-block;line-height: 1.2em;}#sk-container-id-3 div.sk-label-container {text-align: center;}#sk-container-id-3 div.sk-container {/* jupyter's `normalize.less` sets `[hidden] { display: none; }` but bootstrap.min.css set `[hidden] { display: none !important; }` so we also need the `!important` here to be able to override the default hidden behavior on the sphinx rendered scikit-learn.org. See: https://github.com/scikit-learn/scikit-learn/issues/21755 */display: inline-block !important;position: relative;}#sk-container-id-3 div.sk-text-repr-fallback {display: none;}</style><div id=\"sk-container-id-3\" class=\"sk-top-container\"><div class=\"sk-text-repr-fallback\"><pre>SVC(random_state=0)</pre><b>In a Jupyter environment, please rerun this cell to show the HTML representation or trust the notebook. <br />On GitHub, the HTML representation is unable to render, please try loading this page with nbviewer.org.</b></div><div class=\"sk-container\" hidden><div class=\"sk-item\"><div class=\"sk-estimator sk-toggleable\"><input class=\"sk-toggleable__control sk-hidden--visually\" id=\"sk-estimator-id-3\" type=\"checkbox\" checked><label for=\"sk-estimator-id-3\" class=\"sk-toggleable__label sk-toggleable__label-arrow\">SVC</label><div class=\"sk-toggleable__content\"><pre>SVC(random_state=0)</pre></div></div></div></div></div>"
      ],
      "text/plain": [
       "SVC(random_state=0)"
      ]
     },
     "execution_count": 25,
     "metadata": {},
     "output_type": "execute_result"
    }
   ],
   "source": [
    "#Support Vector Machine\n",
    "from sklearn.svm import SVC\n",
    "classifier2=SVC(kernel='rbf',random_state=0)\n",
    "classifier2.fit(x_train,y_train)"
   ]
  },
  {
   "cell_type": "code",
   "execution_count": 26,
   "id": "ead0d734",
   "metadata": {},
   "outputs": [],
   "source": [
    "y_pred=classifier2.predict(x_test)"
   ]
  },
  {
   "cell_type": "code",
   "execution_count": 27,
   "id": "c3a2c684",
   "metadata": {},
   "outputs": [],
   "source": [
    "from sklearn.metrics import confusion_matrix, accuracy_score"
   ]
  },
  {
   "cell_type": "code",
   "execution_count": 28,
   "id": "8444fe92",
   "metadata": {},
   "outputs": [
    {
     "name": "stdout",
     "output_type": "stream",
     "text": [
      "Accuracy: 0.8316831683168316\n",
      "Confusion matrix: [[42  7]\n",
      " [10 42]]\n"
     ]
    }
   ],
   "source": [
    "cm=confusion_matrix(y_test,preds)\n",
    "print(\"Accuracy:\",accuracy_score(y_test,preds))\n",
    "print(\"Confusion matrix:\",cm)"
   ]
  },
  {
   "cell_type": "code",
   "execution_count": 32,
   "id": "5f775d16",
   "metadata": {},
   "outputs": [
    {
     "name": "stdout",
     "output_type": "stream",
     "text": [
      "Predictions:\n",
      " [0 1 1 0 1 1 1 0 0 0 0 0 1 0 1 0 0 1 0 0 0 0 1 1 0 1 0 1 1 1 1 0 0 0 1 1 0\n",
      " 1 1 1 1 0 0 0 0 1 0 0 0 0 1 1 1 0 1 1 0 0 0 0 0 0 0 0 0 0 0 0 0 0 0 1 0 0\n",
      " 1 1 0 1 1 1 1 0 0 1 0 0 0 1 0 0 0 1 0 0 1 0 1 0 0 0 1]\n",
      "Accuracy score:\n",
      " 0.8217821782178217\n"
     ]
    }
   ],
   "source": [
    "#K Neighbors Classifier knn\n",
    "from sklearn.neighbors import KNeighborsClassifier\n",
    "classifer3=KNeighborsClassifier(n_neighbors=7)\n",
    "classifer3.fit(x_train,y_train)\n",
    "print(\"Predictions:\\n\",classifer3.predict(x_test))\n",
    "print(\"Accuracy score:\\n\",classifer3.score(x_test,y_test))"
   ]
  },
  {
   "cell_type": "code",
   "execution_count": 36,
   "id": "be0b882d",
   "metadata": {},
   "outputs": [
    {
     "name": "stdout",
     "output_type": "stream",
     "text": [
      "Confusion matrix: [[48  1]\n",
      " [17 35]]\n"
     ]
    }
   ],
   "source": [
    "#Naive bayes\n",
    "from sklearn.naive_bayes import GaussianNB\n",
    "classifer4=GaussianNB()\n",
    "classifer4.fit(x_train,y_train)\n",
    "preds=classifer4.predict(x_test)\n",
    "from sklearn.metrics import confusion_matrix\n",
    "cm=confusion_matrix(y_test,preds)\n",
    "print(\"Confusion matrix:\",cm)"
   ]
  },
  {
   "cell_type": "markdown",
   "id": "74d1d4ef",
   "metadata": {},
   "source": [
    "# Preprocessing Methods"
   ]
  },
  {
   "cell_type": "code",
   "execution_count": 38,
   "id": "01d75f75",
   "metadata": {},
   "outputs": [],
   "source": [
    "df=pd.read_csv(\"heart_disease.csv\")\n",
    "df.head()\n",
    "df.columns\n",
    "label_encoder= LabelEncoder()\n",
    "df['ChestPainType']=label_encoder.fit_transform(df['ChestPainType'])\n",
    "df['HeartDisease']=label_encoder.fit_transform(df['HeartDisease'])\n",
    "x=df.drop(['Name','Age','Gender','HeartDisease','RestingECG','ExerciseAngina','ST_Slope'],axis=1)\n",
    "y=df['HeartDisease']"
   ]
  },
  {
   "cell_type": "code",
   "execution_count": 39,
   "id": "2f8ccc94",
   "metadata": {},
   "outputs": [
    {
     "name": "stdout",
     "output_type": "stream",
     "text": [
      "     ChestPainType  RestingBP  Cholesterol  FastingBS  MaxHR  Oldpeak\n",
      "0                1        140          289          0    172      0.0\n",
      "1                2        160          180          0    156      1.0\n",
      "2                1        130          283          0     98      0.0\n",
      "3                0        138          214          0    108      1.5\n",
      "4                2        150          195          0    122      0.0\n",
      "..             ...        ...          ...        ...    ...      ...\n",
      "396              3        140            0          1    143      0.0\n",
      "397              0        170            0          1    105      0.0\n",
      "398              0        165            0          1    122      1.0\n",
      "399              2        200            0          1     70      0.0\n",
      "400              0        160            0          1    110      0.0\n",
      "\n",
      "[401 rows x 6 columns]\n",
      "0      0\n",
      "1      1\n",
      "2      0\n",
      "3      1\n",
      "4      0\n",
      "      ..\n",
      "396    1\n",
      "397    1\n",
      "398    1\n",
      "399    1\n",
      "400    1\n",
      "Name: HeartDisease, Length: 401, dtype: int64\n"
     ]
    }
   ],
   "source": [
    "print(x)\n",
    "print(y)"
   ]
  },
  {
   "cell_type": "code",
   "execution_count": 43,
   "id": "95587cba",
   "metadata": {},
   "outputs": [
    {
     "name": "stdout",
     "output_type": "stream",
     "text": [
      "Original Data:    ChestPainType  RestingBP  Cholesterol  FastingBS  MaxHR  Oldpeak\n",
      "0              1        140          289          0    172      0.0\n",
      "1              2        160          180          0    156      1.0\n",
      "2              1        130          283          0     98      0.0\n",
      "3              0        138          214          0    108      1.5\n",
      "4              2        150          195          0    122      0.0\n",
      "5              2        120          339          0    170      0.0\n",
      "6              1        130          237          0    170      0.0\n",
      "7              1        110          208          0    142      0.0\n",
      "8              0        140          207          0    130      1.5\n",
      "9              1        120          284          0    120      0.0\n",
      "Scaled data: [[ 0.3167346   0.42933254  0.87585565 -0.49922058  1.48630155 -0.65515716]\n",
      " [ 1.460974    1.47654878 -0.00483575 -0.49922058  0.84638001  0.41236832]\n",
      " [ 0.3167346  -0.09427558  0.82737722 -0.49922058 -1.47333556 -0.65515716]\n",
      " [-0.8275048   0.32461092  0.26987533 -0.49922058 -1.0733846   0.94613106]\n",
      " [ 1.460974    0.95294066  0.11636031 -0.49922058 -0.51345325 -0.65515716]\n",
      " [ 1.460974   -0.6178837   1.27984253 -0.49922058  1.40631136 -0.65515716]\n",
      " [ 0.3167346  -0.09427558  0.45570929 -0.49922058  1.40631136 -0.65515716]\n",
      " [ 0.3167346  -1.14149182  0.2213969  -0.49922058  0.28644867 -0.65515716]\n",
      " [-0.8275048   0.42933254  0.21331716 -0.49922058 -0.19349248  0.94613106]\n",
      " [ 0.3167346  -0.6178837   0.83545696 -0.49922058 -0.59344345 -0.65515716]]\n"
     ]
    }
   ],
   "source": [
    "#standard scaler\n",
    "from sklearn.preprocessing import StandardScaler\n",
    "scaler=StandardScaler()\n",
    "x_scaled=scaler.fit_transform(x)\n",
    "print(\"Original Data:\",x[:10])\n",
    "print(\"Scaled data:\",x_scaled[:10])"
   ]
  },
  {
   "cell_type": "code",
   "execution_count": 45,
   "id": "ff9736dd",
   "metadata": {},
   "outputs": [
    {
     "name": "stdout",
     "output_type": "stream",
     "text": [
      "Original Data:    ChestPainType  RestingBP  Cholesterol  FastingBS  MaxHR  Oldpeak\n",
      "0              1        140          289          0    172      0.0\n",
      "1              2        160          180          0    156      1.0\n",
      "2              1        130          283          0     98      0.0\n",
      "3              0        138          214          0    108      1.5\n",
      "4              2        150          195          0    122      0.0\n",
      "5              2        120          339          0    170      0.0\n",
      "6              1        130          237          0    170      0.0\n",
      "7              1        110          208          0    142      0.0\n",
      "8              0        140          207          0    130      1.5\n",
      "9              1        120          284          0    120      0.0\n",
      "Scaled data: [[0.33333333 0.5        0.47927032 0.         0.86153846 0.34210526]\n",
      " [0.66666667 0.66666667 0.29850746 0.         0.73846154 0.47368421]\n",
      " [0.33333333 0.41666667 0.46932007 0.         0.29230769 0.34210526]\n",
      " [0.         0.48333333 0.35489221 0.         0.36923077 0.53947368]\n",
      " [0.66666667 0.58333333 0.32338308 0.         0.47692308 0.34210526]\n",
      " [0.66666667 0.33333333 0.56218905 0.         0.84615385 0.34210526]\n",
      " [0.33333333 0.41666667 0.39303483 0.         0.84615385 0.34210526]\n",
      " [0.33333333 0.25       0.34494196 0.         0.63076923 0.34210526]\n",
      " [0.         0.5        0.34328358 0.         0.53846154 0.53947368]\n",
      " [0.33333333 0.33333333 0.47097844 0.         0.46153846 0.34210526]]\n"
     ]
    }
   ],
   "source": [
    "#minmaxscaler\n",
    "from sklearn.preprocessing import MinMaxScaler\n",
    "scaler=MinMaxScaler(feature_range=(0,1))\n",
    "x_scaled=scaler.fit_transform(x)\n",
    "print(\"Original Data:\",x[:10])\n",
    "print(\"Scaled data:\",x_scaled[:10])"
   ]
  },
  {
   "cell_type": "code",
   "execution_count": 46,
   "id": "4ac73eed",
   "metadata": {},
   "outputs": [
    {
     "name": "stdout",
     "output_type": "stream",
     "text": [
      "Original Data:    ChestPainType  RestingBP  Cholesterol  FastingBS  MaxHR  Oldpeak\n",
      "0              1        140          289          0    172      0.0\n",
      "1              2        160          180          0    156      1.0\n",
      "2              1        130          283          0     98      0.0\n",
      "3              0        138          214          0    108      1.5\n",
      "4              2        150          195          0    122      0.0\n",
      "5              2        120          339          0    170      0.0\n",
      "6              1        130          237          0    170      0.0\n",
      "7              1        110          208          0    142      0.0\n",
      "8              0        140          207          0    130      1.5\n",
      "9              1        120          284          0    120      0.0\n",
      "Scaled data: [[0.00274508 0.38431095 0.7933276  0.         0.47215345 0.        ]\n",
      " [0.00696983 0.55758607 0.62728433 0.         0.54364642 0.00348491]\n",
      " [0.00306291 0.39817774 0.8668023  0.         0.30016475 0.        ]\n",
      " [0.         0.49891967 0.77368703 0.         0.39045887 0.00542304]\n",
      " [0.00728294 0.54622069 0.7100869  0.         0.4442595  0.        ]\n",
      " [0.00502797 0.30167804 0.85224046 0.         0.42737722 0.        ]\n",
      " [0.00313158 0.40710566 0.74218494 0.         0.53236894 0.        ]\n",
      " [0.00363867 0.40025413 0.75684417 0.         0.51669169 0.        ]\n",
      " [0.         0.496994   0.73484113 0.         0.46149443 0.00532494]\n",
      " [0.00302258 0.36270996 0.85841356 0.         0.36270996 0.        ]]\n"
     ]
    }
   ],
   "source": [
    "#Normalizer\n",
    "from sklearn.preprocessing import Normalizer\n",
    "scaler=Normalizer(norm='l2')\n",
    "x_normalized = scaler.fit_transform(x)\n",
    "print(\"Original Data:\",x[:10])\n",
    "print(\"Scaled data:\",x_normalized[:10])"
   ]
  },
  {
   "cell_type": "code",
   "execution_count": 8,
   "id": "9abec817",
   "metadata": {},
   "outputs": [
    {
     "name": "stdout",
     "output_type": "stream",
     "text": [
      "Original Data:   ChestPainType  RestingBP  Cholesterol  FastingBS  MaxHR  Oldpeak\n",
      "0           ATA        140          289          0    172      0.0\n",
      "1           NAP        160          180          0    156      1.0\n",
      "2           ATA        130          283          0     98      0.0\n",
      "3           ASY        138          214          0    108      1.5\n",
      "4           NAP        150          195          0    122      0.0\n",
      "5           NAP        120          339          0    170      0.0\n",
      "6           ATA        130          237          0    170      0.0\n",
      "7           ATA        110          208          0    142      0.0\n",
      "8           ASY        140          207          0    130      1.5\n",
      "9           ATA        120          284          0    120      0.0\n",
      "Scaled data:   (0, 1)\t1.0\n",
      "  (0, 29)\t1.0\n",
      "  (0, 159)\t1.0\n",
      "  (0, 204)\t1.0\n",
      "  (0, 287)\t1.0\n",
      "  (0, 307)\t1.0\n",
      "  (1, 2)\t1.0\n",
      "  (1, 34)\t1.0\n",
      "  (1, 66)\t1.0\n",
      "  (1, 204)\t1.0\n",
      "  (1, 276)\t1.0\n",
      "  (1, 316)\t1.0\n",
      "  (2, 1)\t1.0\n",
      "  (2, 22)\t1.0\n",
      "  (2, 154)\t1.0\n",
      "  (2, 204)\t1.0\n",
      "  (2, 223)\t1.0\n",
      "  (2, 307)\t1.0\n",
      "  (3, 0)\t1.0\n",
      "  (3, 28)\t1.0\n",
      "  (3, 94)\t1.0\n",
      "  (3, 204)\t1.0\n",
      "  (3, 231)\t1.0\n",
      "  (3, 321)\t1.0\n",
      "  (4, 2)\t1.0\n",
      "  :\t:\n",
      "  (5, 307)\t1.0\n",
      "  (6, 1)\t1.0\n",
      "  (6, 22)\t1.0\n",
      "  (6, 115)\t1.0\n",
      "  (6, 204)\t1.0\n",
      "  (6, 286)\t1.0\n",
      "  (6, 307)\t1.0\n",
      "  (7, 1)\t1.0\n",
      "  (7, 12)\t1.0\n",
      "  (7, 88)\t1.0\n",
      "  (7, 204)\t1.0\n",
      "  (7, 264)\t1.0\n",
      "  (7, 307)\t1.0\n",
      "  (8, 0)\t1.0\n",
      "  (8, 29)\t1.0\n",
      "  (8, 87)\t1.0\n",
      "  (8, 204)\t1.0\n",
      "  (8, 252)\t1.0\n",
      "  (8, 321)\t1.0\n",
      "  (9, 1)\t1.0\n",
      "  (9, 17)\t1.0\n",
      "  (9, 155)\t1.0\n",
      "  (9, 204)\t1.0\n",
      "  (9, 242)\t1.0\n",
      "  (9, 307)\t1.0\n"
     ]
    }
   ],
   "source": [
    "#One hot encoder\n",
    "from sklearn.preprocessing import OneHotEncoder\n",
    "scaler=OneHotEncoder()\n",
    "import pandas as pd\n",
    "df=pd.read_csv(\"heart_disease.csv\")\n",
    "x=df.drop(['Name','Age','Gender','HeartDisease','RestingECG','ExerciseAngina','ST_Slope'],axis=1)\n",
    "y=df['HeartDisease']\n",
    "x_encoded=scaler.fit_transform(x)\n",
    "print(\"Original Data:\",x[:10])\n",
    "print(\"Scaled data:\",x_encoded[:10])"
   ]
  },
  {
   "cell_type": "code",
   "execution_count": 16,
   "id": "7d53634e",
   "metadata": {},
   "outputs": [
    {
     "name": "stdout",
     "output_type": "stream",
     "text": [
      "Original Data: 0    0\n",
      "1    1\n",
      "2    0\n",
      "3    1\n",
      "4    0\n",
      "5    0\n",
      "6    0\n",
      "7    0\n",
      "8    1\n",
      "9    0\n",
      "Name: HeartDisease, dtype: int64\n",
      "Scaled data: [0 1 0 1 0 0 0 0 1 0]\n"
     ]
    }
   ],
   "source": [
    "#LAbel Encoder\n",
    "import pandas as pd\n",
    "df=pd.read_csv(\"heart_disease.csv\")\n",
    "y=df['HeartDisease']\n",
    "from sklearn.preprocessing import LabelEncoder\n",
    "encoder=LabelEncoder()\n",
    "y_encoded =encoder.fit_transform(y)\n",
    "print(\"Original Data:\",y[:10])\n",
    "print(\"Scaled data:\",y_encoded[:10])\n"
   ]
  },
  {
   "cell_type": "code",
   "execution_count": 18,
   "id": "5567eed5",
   "metadata": {},
   "outputs": [
    {
     "name": "stdout",
     "output_type": "stream",
     "text": [
      "Original Data:    ChestPainType  RestingBP  Cholesterol  FastingBS  MaxHR  Oldpeak\n",
      "0              1        140          289          0    172      0.0\n",
      "1              2        160          180          0    156      1.0\n",
      "2              1        130          283          0     98      0.0\n",
      "3              0        138          214          0    108      1.5\n",
      "4              2        150          195          0    122      0.0\n",
      "5              2        120          339          0    170      0.0\n",
      "6              1        130          237          0    170      0.0\n",
      "7              1        110          208          0    142      0.0\n",
      "8              0        140          207          0    130      1.5\n",
      "9              1        120          284          0    120      0.0\n",
      "Scaled data: [[110.12039675 -28.14060464]\n",
      " [  0.81999558 -10.64012438]\n",
      " [100.54589953  38.07490927]\n",
      " [ 32.21426065  28.65500023]\n",
      " [ 14.07278669  18.67062655]\n",
      " [159.65964016 -30.95910972]\n",
      " [ 57.93516906 -31.57396822]\n",
      " [ 27.36371114 -12.92210566]\n",
      " [ 26.27238569   8.30810015]\n",
      " [102.40883373  14.06196229]]\n"
     ]
    }
   ],
   "source": [
    "#PCA\n",
    "label_encoder= LabelEncoder()\n",
    "df['ChestPainType']=label_encoder.fit_transform(df['ChestPainType'])\n",
    "x=df.drop(['Name','Age','Gender','HeartDisease','RestingECG','ExerciseAngina','ST_Slope'],axis=1)\n",
    "y=df['HeartDisease']\n",
    "from sklearn.decomposition import PCA\n",
    "pca=PCA(n_components=2)\n",
    "x_pca=pca.fit_transform(x)\n",
    "print(\"Original Data:\",x[:10])\n",
    "print(\"Scaled data:\",x_pca[:10])"
   ]
  },
  {
   "cell_type": "code",
   "execution_count": 7,
   "id": "d09dbfaa",
   "metadata": {},
   "outputs": [
    {
     "ename": "ValueError",
     "evalue": "Input X must be non-negative.",
     "output_type": "error",
     "traceback": [
      "\u001b[1;31m---------------------------------------------------------------------------\u001b[0m",
      "\u001b[1;31mValueError\u001b[0m                                Traceback (most recent call last)",
      "Cell \u001b[1;32mIn[7], line 12\u001b[0m\n\u001b[0;32m     10\u001b[0m x\u001b[38;5;241m=\u001b[39mdf\u001b[38;5;241m.\u001b[39mdrop([\u001b[38;5;124m'\u001b[39m\u001b[38;5;124mName\u001b[39m\u001b[38;5;124m'\u001b[39m,\u001b[38;5;124m'\u001b[39m\u001b[38;5;124mAge\u001b[39m\u001b[38;5;124m'\u001b[39m,\u001b[38;5;124m'\u001b[39m\u001b[38;5;124mGender\u001b[39m\u001b[38;5;124m'\u001b[39m,\u001b[38;5;124m'\u001b[39m\u001b[38;5;124mHeartDisease\u001b[39m\u001b[38;5;124m'\u001b[39m,\u001b[38;5;124m'\u001b[39m\u001b[38;5;124mRestingECG\u001b[39m\u001b[38;5;124m'\u001b[39m,\u001b[38;5;124m'\u001b[39m\u001b[38;5;124mExerciseAngina\u001b[39m\u001b[38;5;124m'\u001b[39m,\u001b[38;5;124m'\u001b[39m\u001b[38;5;124mST_Slope\u001b[39m\u001b[38;5;124m'\u001b[39m],axis\u001b[38;5;241m=\u001b[39m\u001b[38;5;241m1\u001b[39m)\n\u001b[0;32m     11\u001b[0m y\u001b[38;5;241m=\u001b[39mdf[\u001b[38;5;124m'\u001b[39m\u001b[38;5;124mHeartDisease\u001b[39m\u001b[38;5;124m'\u001b[39m]\n\u001b[1;32m---> 12\u001b[0m x_selected\u001b[38;5;241m=\u001b[39m\u001b[43mselector\u001b[49m\u001b[38;5;241;43m.\u001b[39;49m\u001b[43mfit_transform\u001b[49m\u001b[43m(\u001b[49m\u001b[43mx\u001b[49m\u001b[43m,\u001b[49m\u001b[43my\u001b[49m\u001b[43m)\u001b[49m\n\u001b[0;32m     13\u001b[0m \u001b[38;5;28mprint\u001b[39m(\u001b[38;5;124m\"\u001b[39m\u001b[38;5;124mOriginal data:\u001b[39m\u001b[38;5;124m\"\u001b[39m,x[:\u001b[38;5;241m10\u001b[39m])\n\u001b[0;32m     14\u001b[0m \u001b[38;5;28mprint\u001b[39m(\u001b[38;5;124m\"\u001b[39m\u001b[38;5;124mScaled data:\u001b[39m\u001b[38;5;124m\"\u001b[39m,x_selected[:\u001b[38;5;241m10\u001b[39m])\n",
      "File \u001b[1;32m~\\anaconda3\\envs\\en1\\lib\\site-packages\\sklearn\\utils\\_set_output.py:140\u001b[0m, in \u001b[0;36m_wrap_method_output.<locals>.wrapped\u001b[1;34m(self, X, *args, **kwargs)\u001b[0m\n\u001b[0;32m    138\u001b[0m \u001b[38;5;129m@wraps\u001b[39m(f)\n\u001b[0;32m    139\u001b[0m \u001b[38;5;28;01mdef\u001b[39;00m \u001b[38;5;21mwrapped\u001b[39m(\u001b[38;5;28mself\u001b[39m, X, \u001b[38;5;241m*\u001b[39margs, \u001b[38;5;241m*\u001b[39m\u001b[38;5;241m*\u001b[39mkwargs):\n\u001b[1;32m--> 140\u001b[0m     data_to_wrap \u001b[38;5;241m=\u001b[39m f(\u001b[38;5;28mself\u001b[39m, X, \u001b[38;5;241m*\u001b[39margs, \u001b[38;5;241m*\u001b[39m\u001b[38;5;241m*\u001b[39mkwargs)\n\u001b[0;32m    141\u001b[0m     \u001b[38;5;28;01mif\u001b[39;00m \u001b[38;5;28misinstance\u001b[39m(data_to_wrap, \u001b[38;5;28mtuple\u001b[39m):\n\u001b[0;32m    142\u001b[0m         \u001b[38;5;66;03m# only wrap the first output for cross decomposition\u001b[39;00m\n\u001b[0;32m    143\u001b[0m         return_tuple \u001b[38;5;241m=\u001b[39m (\n\u001b[0;32m    144\u001b[0m             _wrap_data_with_container(method, data_to_wrap[\u001b[38;5;241m0\u001b[39m], X, \u001b[38;5;28mself\u001b[39m),\n\u001b[0;32m    145\u001b[0m             \u001b[38;5;241m*\u001b[39mdata_to_wrap[\u001b[38;5;241m1\u001b[39m:],\n\u001b[0;32m    146\u001b[0m         )\n",
      "File \u001b[1;32m~\\anaconda3\\envs\\en1\\lib\\site-packages\\sklearn\\base.py:918\u001b[0m, in \u001b[0;36mTransformerMixin.fit_transform\u001b[1;34m(self, X, y, **fit_params)\u001b[0m\n\u001b[0;32m    915\u001b[0m     \u001b[38;5;28;01mreturn\u001b[39;00m \u001b[38;5;28mself\u001b[39m\u001b[38;5;241m.\u001b[39mfit(X, \u001b[38;5;241m*\u001b[39m\u001b[38;5;241m*\u001b[39mfit_params)\u001b[38;5;241m.\u001b[39mtransform(X)\n\u001b[0;32m    916\u001b[0m \u001b[38;5;28;01melse\u001b[39;00m:\n\u001b[0;32m    917\u001b[0m     \u001b[38;5;66;03m# fit method of arity 2 (supervised transformation)\u001b[39;00m\n\u001b[1;32m--> 918\u001b[0m     \u001b[38;5;28;01mreturn\u001b[39;00m \u001b[38;5;28mself\u001b[39m\u001b[38;5;241m.\u001b[39mfit(X, y, \u001b[38;5;241m*\u001b[39m\u001b[38;5;241m*\u001b[39mfit_params)\u001b[38;5;241m.\u001b[39mtransform(X)\n",
      "File \u001b[1;32m~\\anaconda3\\envs\\en1\\lib\\site-packages\\sklearn\\base.py:1151\u001b[0m, in \u001b[0;36m_fit_context.<locals>.decorator.<locals>.wrapper\u001b[1;34m(estimator, *args, **kwargs)\u001b[0m\n\u001b[0;32m   1144\u001b[0m     estimator\u001b[38;5;241m.\u001b[39m_validate_params()\n\u001b[0;32m   1146\u001b[0m \u001b[38;5;28;01mwith\u001b[39;00m config_context(\n\u001b[0;32m   1147\u001b[0m     skip_parameter_validation\u001b[38;5;241m=\u001b[39m(\n\u001b[0;32m   1148\u001b[0m         prefer_skip_nested_validation \u001b[38;5;129;01mor\u001b[39;00m global_skip_validation\n\u001b[0;32m   1149\u001b[0m     )\n\u001b[0;32m   1150\u001b[0m ):\n\u001b[1;32m-> 1151\u001b[0m     \u001b[38;5;28;01mreturn\u001b[39;00m fit_method(estimator, \u001b[38;5;241m*\u001b[39margs, \u001b[38;5;241m*\u001b[39m\u001b[38;5;241m*\u001b[39mkwargs)\n",
      "File \u001b[1;32m~\\anaconda3\\envs\\en1\\lib\\site-packages\\sklearn\\feature_selection\\_univariate_selection.py:503\u001b[0m, in \u001b[0;36m_BaseFilter.fit\u001b[1;34m(self, X, y)\u001b[0m\n\u001b[0;32m    498\u001b[0m X, y \u001b[38;5;241m=\u001b[39m \u001b[38;5;28mself\u001b[39m\u001b[38;5;241m.\u001b[39m_validate_data(\n\u001b[0;32m    499\u001b[0m     X, y, accept_sparse\u001b[38;5;241m=\u001b[39m[\u001b[38;5;124m\"\u001b[39m\u001b[38;5;124mcsr\u001b[39m\u001b[38;5;124m\"\u001b[39m, \u001b[38;5;124m\"\u001b[39m\u001b[38;5;124mcsc\u001b[39m\u001b[38;5;124m\"\u001b[39m], multi_output\u001b[38;5;241m=\u001b[39m\u001b[38;5;28;01mTrue\u001b[39;00m\n\u001b[0;32m    500\u001b[0m )\n\u001b[0;32m    502\u001b[0m \u001b[38;5;28mself\u001b[39m\u001b[38;5;241m.\u001b[39m_check_params(X, y)\n\u001b[1;32m--> 503\u001b[0m score_func_ret \u001b[38;5;241m=\u001b[39m \u001b[38;5;28;43mself\u001b[39;49m\u001b[38;5;241;43m.\u001b[39;49m\u001b[43mscore_func\u001b[49m\u001b[43m(\u001b[49m\u001b[43mX\u001b[49m\u001b[43m,\u001b[49m\u001b[43m \u001b[49m\u001b[43my\u001b[49m\u001b[43m)\u001b[49m\n\u001b[0;32m    504\u001b[0m \u001b[38;5;28;01mif\u001b[39;00m \u001b[38;5;28misinstance\u001b[39m(score_func_ret, (\u001b[38;5;28mlist\u001b[39m, \u001b[38;5;28mtuple\u001b[39m)):\n\u001b[0;32m    505\u001b[0m     \u001b[38;5;28mself\u001b[39m\u001b[38;5;241m.\u001b[39mscores_, \u001b[38;5;28mself\u001b[39m\u001b[38;5;241m.\u001b[39mpvalues_ \u001b[38;5;241m=\u001b[39m score_func_ret\n",
      "File \u001b[1;32m~\\anaconda3\\envs\\en1\\lib\\site-packages\\sklearn\\utils\\_param_validation.py:184\u001b[0m, in \u001b[0;36mvalidate_params.<locals>.decorator.<locals>.wrapper\u001b[1;34m(*args, **kwargs)\u001b[0m\n\u001b[0;32m    182\u001b[0m global_skip_validation \u001b[38;5;241m=\u001b[39m get_config()[\u001b[38;5;124m\"\u001b[39m\u001b[38;5;124mskip_parameter_validation\u001b[39m\u001b[38;5;124m\"\u001b[39m]\n\u001b[0;32m    183\u001b[0m \u001b[38;5;28;01mif\u001b[39;00m global_skip_validation:\n\u001b[1;32m--> 184\u001b[0m     \u001b[38;5;28;01mreturn\u001b[39;00m func(\u001b[38;5;241m*\u001b[39margs, \u001b[38;5;241m*\u001b[39m\u001b[38;5;241m*\u001b[39mkwargs)\n\u001b[0;32m    186\u001b[0m func_sig \u001b[38;5;241m=\u001b[39m signature(func)\n\u001b[0;32m    188\u001b[0m \u001b[38;5;66;03m# Map *args/**kwargs to the function signature\u001b[39;00m\n",
      "File \u001b[1;32m~\\anaconda3\\envs\\en1\\lib\\site-packages\\sklearn\\feature_selection\\_univariate_selection.py:231\u001b[0m, in \u001b[0;36mchi2\u001b[1;34m(X, y)\u001b[0m\n\u001b[0;32m    229\u001b[0m X \u001b[38;5;241m=\u001b[39m check_array(X, accept_sparse\u001b[38;5;241m=\u001b[39m\u001b[38;5;124m\"\u001b[39m\u001b[38;5;124mcsr\u001b[39m\u001b[38;5;124m\"\u001b[39m, dtype\u001b[38;5;241m=\u001b[39m(np\u001b[38;5;241m.\u001b[39mfloat64, np\u001b[38;5;241m.\u001b[39mfloat32))\n\u001b[0;32m    230\u001b[0m \u001b[38;5;28;01mif\u001b[39;00m np\u001b[38;5;241m.\u001b[39many((X\u001b[38;5;241m.\u001b[39mdata \u001b[38;5;28;01mif\u001b[39;00m issparse(X) \u001b[38;5;28;01melse\u001b[39;00m X) \u001b[38;5;241m<\u001b[39m \u001b[38;5;241m0\u001b[39m):\n\u001b[1;32m--> 231\u001b[0m     \u001b[38;5;28;01mraise\u001b[39;00m \u001b[38;5;167;01mValueError\u001b[39;00m(\u001b[38;5;124m\"\u001b[39m\u001b[38;5;124mInput X must be non-negative.\u001b[39m\u001b[38;5;124m\"\u001b[39m)\n\u001b[0;32m    233\u001b[0m \u001b[38;5;66;03m# Use a sparse representation for Y by default to reduce memory usage when\u001b[39;00m\n\u001b[0;32m    234\u001b[0m \u001b[38;5;66;03m# y has many unique classes.\u001b[39;00m\n\u001b[0;32m    235\u001b[0m Y \u001b[38;5;241m=\u001b[39m LabelBinarizer(sparse_output\u001b[38;5;241m=\u001b[39m\u001b[38;5;28;01mTrue\u001b[39;00m)\u001b[38;5;241m.\u001b[39mfit_transform(y)\n",
      "\u001b[1;31mValueError\u001b[0m: Input X must be non-negative."
     ]
    }
   ],
   "source": [
    "#select k best\n",
    "from sklearn.feature_selection import SelectKBest\n",
    "from sklearn.feature_selection import chi2\n",
    "import pandas as pd\n",
    "from sklearn.preprocessing import LabelEncoder \n",
    "df=pd.read_csv(\"heart_disease.csv\")\n",
    "selector=SelectKBest(score_func=chi2,k=3)\n",
    "label_encoder= LabelEncoder()\n",
    "df['ChestPainType']=label_encoder.fit_transform(df['ChestPainType'])\n",
    "x=df.drop(['Name','Age','Gender','HeartDisease','RestingECG','ExerciseAngina','ST_Slope'],axis=1)\n",
    "y=df['HeartDisease']\n",
    "x_selected=selector.fit_transform(x,y)\n",
    "print(\"Original data:\",x[:10])\n",
    "print(\"Scaled data:\",x_selected[:10])"
   ]
  },
  {
   "cell_type": "code",
   "execution_count": 1,
   "id": "cb0413da",
   "metadata": {},
   "outputs": [
    {
     "name": "stdout",
     "output_type": "stream",
     "text": [
      "Original Data: ['Many factors, such as diabetes, high blood pressure, high cholesterol,\\nand abnormal pulse rate, need to be considered when predicting heart disease. \\nOften, the medical data available need to be completed, \\naffecting the results in predicting heart disease. \\nMachine learning plays a crucial role in the medical field.']\n",
      "Scaled Data:   (0, 21)\t1\n",
      "  (0, 14)\t1\n",
      "  (0, 32)\t1\n",
      "  (0, 3)\t1\n",
      "  (0, 12)\t1\n",
      "  (0, 17)\t2\n",
      "  (0, 6)\t1\n",
      "  (0, 27)\t1\n",
      "  (0, 7)\t1\n",
      "  (0, 2)\t1\n",
      "  (0, 0)\t1\n",
      "  (0, 28)\t1\n",
      "  (0, 29)\t1\n",
      "  (0, 23)\t2\n",
      "  (0, 34)\t2\n",
      "  (0, 5)\t2\n",
      "  (0, 9)\t1\n",
      "  (0, 35)\t1\n",
      "  (0, 26)\t2\n",
      "  (0, 16)\t2\n",
      "  (0, 13)\t2\n",
      "  (0, 24)\t1\n",
      "  (0, 33)\t3\n",
      "  (0, 22)\t2\n",
      "  (0, 11)\t1\n",
      "  (0, 4)\t1\n",
      "  (0, 8)\t1\n",
      "  (0, 1)\t1\n",
      "  (0, 30)\t1\n",
      "  (0, 18)\t2\n",
      "  (0, 20)\t1\n",
      "  (0, 19)\t1\n",
      "  (0, 25)\t1\n",
      "  (0, 10)\t1\n",
      "  (0, 31)\t1\n",
      "  (0, 15)\t1\n"
     ]
    }
   ],
   "source": [
    "#Count vectorizer\n",
    "from sklearn.feature_extraction.text import CountVectorizer\n",
    "text=['''Many factors, such as diabetes, high blood pressure, high cholesterol,\n",
    "and abnormal pulse rate, need to be considered when predicting heart disease. \n",
    "Often, the medical data available need to be completed, \n",
    "affecting the results in predicting heart disease. \n",
    "Machine learning plays a crucial role in the medical field.''']\n",
    "vectorizer=CountVectorizer()\n",
    "X_counts=vectorizer.fit_transform(text)\n",
    "print(\"Original Data:\",text)\n",
    "print(\"Scaled Data:\",X_counts)"
   ]
  },
  {
   "cell_type": "code",
   "execution_count": 25,
   "id": "1d027a93",
   "metadata": {},
   "outputs": [
    {
     "name": "stdout",
     "output_type": "stream",
     "text": [
      "Original Data: ['Many factors, such as diabetes, high blood pressure, high cholesterol,\\nand abnormal pulse rate, need to be considered when predicting heart disease. \\nOften, the medical data available need to be completed, \\naffecting the results in predicting heart disease. \\nMachine learning plays a crucial role in the medical field.']\n",
      "Vector counts:   (0, 15)\t0.11867816581938533\n",
      "  (0, 31)\t0.11867816581938533\n",
      "  (0, 10)\t0.11867816581938533\n",
      "  (0, 25)\t0.11867816581938533\n",
      "  (0, 19)\t0.11867816581938533\n",
      "  (0, 20)\t0.11867816581938533\n",
      "  (0, 18)\t0.23735633163877065\n",
      "  (0, 30)\t0.11867816581938533\n",
      "  (0, 1)\t0.11867816581938533\n",
      "  (0, 8)\t0.11867816581938533\n",
      "  (0, 4)\t0.11867816581938533\n",
      "  (0, 11)\t0.11867816581938533\n",
      "  (0, 22)\t0.23735633163877065\n",
      "  (0, 33)\t0.35603449745815596\n",
      "  (0, 24)\t0.11867816581938533\n",
      "  (0, 13)\t0.23735633163877065\n",
      "  (0, 16)\t0.23735633163877065\n",
      "  (0, 26)\t0.23735633163877065\n",
      "  (0, 35)\t0.11867816581938533\n",
      "  (0, 9)\t0.11867816581938533\n",
      "  (0, 5)\t0.23735633163877065\n",
      "  (0, 34)\t0.23735633163877065\n",
      "  (0, 23)\t0.23735633163877065\n",
      "  (0, 29)\t0.11867816581938533\n",
      "  (0, 28)\t0.11867816581938533\n",
      "  (0, 0)\t0.11867816581938533\n",
      "  (0, 2)\t0.11867816581938533\n",
      "  (0, 7)\t0.11867816581938533\n",
      "  (0, 27)\t0.11867816581938533\n",
      "  (0, 6)\t0.11867816581938533\n",
      "  (0, 17)\t0.23735633163877065\n",
      "  (0, 12)\t0.11867816581938533\n",
      "  (0, 3)\t0.11867816581938533\n",
      "  (0, 32)\t0.11867816581938533\n",
      "  (0, 14)\t0.11867816581938533\n",
      "  (0, 21)\t0.11867816581938533\n"
     ]
    }
   ],
   "source": [
    "#TFID vectorizer\n",
    "from sklearn.feature_extraction.text import TfidfVectorizer\n",
    "text=['''Many factors, such as diabetes, high blood pressure, high cholesterol,\n",
    "and abnormal pulse rate, need to be considered when predicting heart disease. \n",
    "Often, the medical data available need to be completed, \n",
    "affecting the results in predicting heart disease. \n",
    "Machine learning plays a crucial role in the medical field.''']\n",
    "vectorizer=TfidfVectorizer()\n",
    "X_tfidf = vectorizer.fit_transform(text)\n",
    "print(\"Original Data:\",text)\n",
    "print(\"Vector counts:\",X_tfidf)\n"
   ]
  },
  {
   "cell_type": "code",
   "execution_count": null,
   "id": "fd4e0fb8",
   "metadata": {},
   "outputs": [],
   "source": []
  }
 ],
 "metadata": {
  "kernelspec": {
   "display_name": "Python 3 (ipykernel)",
   "language": "python",
   "name": "python3"
  },
  "language_info": {
   "codemirror_mode": {
    "name": "ipython",
    "version": 3
   },
   "file_extension": ".py",
   "mimetype": "text/x-python",
   "name": "python",
   "nbconvert_exporter": "python",
   "pygments_lexer": "ipython3",
   "version": "3.10.9"
  }
 },
 "nbformat": 4,
 "nbformat_minor": 5
}
